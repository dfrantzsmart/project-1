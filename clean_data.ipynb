{
 "cells": [
  {
   "cell_type": "code",
   "execution_count": 3,
   "metadata": {},
   "outputs": [
    {
     "name": "stdout",
     "output_type": "stream",
     "text": [
      "<class 'pandas.core.frame.DataFrame'>\n",
      "Int64Index: 175365 entries, 1 to 206995\n",
      "Data columns (total 15 columns):\n",
      " #   Column          Non-Null Count   Dtype         \n",
      "---  ------          --------------   -----         \n",
      " 0   C/A             175365 non-null  object        \n",
      " 1   UNIT            175365 non-null  object        \n",
      " 2   SCP             175365 non-null  object        \n",
      " 3   STATION         175365 non-null  object        \n",
      " 4   LINENAME        175365 non-null  object        \n",
      " 5   DIVISION        175365 non-null  object        \n",
      " 6   DATE            175365 non-null  object        \n",
      " 7   TIME            175365 non-null  object        \n",
      " 8   DESC            175365 non-null  object        \n",
      " 9   ENTRIES         175365 non-null  int64         \n",
      " 10  EXITS           175365 non-null  int64         \n",
      " 11  converted_time  175365 non-null  datetime64[ns]\n",
      " 12  turnstiles      175365 non-null  object        \n",
      " 13  entries_diff    175365 non-null  float64       \n",
      " 14  exits_diff      175365 non-null  float64       \n",
      "dtypes: datetime64[ns](1), float64(2), int64(2), object(10)\n",
      "memory usage: 21.4+ MB\n",
      "None\n"
     ]
    }
   ],
   "source": [
    "import pandas as pd\n",
    "\n",
    "df = pd.read_csv('http://web.mta.info/developers/data/nyct/turnstile/turnstile_190803.txt')\n",
    "    \n",
    "    # rename columns to get rid of the funny 'EXITS     ' issue\n",
    "df.columns = ['C/A','UNIT','SCP','STATION','LINENAME',\\\n",
    "                  'DIVISION','DATE','TIME','DESC','ENTRIES','EXITS']\n",
    "    \n",
    "    # convert to datetime/make turnstile column\n",
    "df['converted_time'] = pd.to_datetime(df['DATE']+' '+df['TIME'])\n",
    "df['turnstiles'] = df['C/A'] + '-' + df['UNIT'] + '-' + df['SCP'] + '-' + df['STATION']\n",
    "    \n",
    "    # sort by date and location\n",
    "df_sorted = df.sort_values(['turnstiles', 'converted_time'])\n",
    "    \n",
    "    # group by turnstile so we can get entry/exit differences\n",
    "turnstile_df = df_sorted.groupby('turnstiles')\n",
    "df_sorted['entries_diff'] = turnstile_df['ENTRIES'].diff()\n",
    "df_sorted['exits_diff'] = turnstile_df['EXITS'].diff()\n",
    "    \n",
    "    # calculates IQR for entries_diff\n",
    "Q3 = df_sorted['entries_diff'].quantile(0.75) \n",
    "Q1 = df_sorted['entries_diff'].quantile(0.25)\n",
    "IQR = Q3 - Q1\n",
    "    \n",
    "    # calculates IQR range using outliers \n",
    "IQR_range = (Q1 - 1.5 * IQR, Q3 + 1.5 * IQR)\n",
    "    \n",
    "    # removes values outside of lower and upper bounds\n",
    "df_sorted = df_sorted[df_sorted['entries_diff'].between(0, IQR_range[1])]\n",
    "    \n",
    "    # repeats process for exits_diff\n",
    "Q3_2 = df_sorted['exits_diff'].quantile(0.75) \n",
    "Q1_2 = df_sorted['exits_diff'].quantile(0.25)\n",
    "IQR_2 = Q3_2 - Q1_2\n",
    "IQR_range_2 = (Q1_2 - 1.5 * IQR, Q3_2 + 1.5 * IQR)\n",
    "df_sorted = df_sorted[df_sorted['exits_diff'].between(0, IQR_range_2[1])]\n",
    "\n",
    "    # replaces NaN values with mean for entries_diff and exits_diff\n",
    "df_sorted.entries_diff = df_sorted.entries_diff.fillna(df_sorted.entries_diff.mean())\n",
    "df_sorted.exits_diff = df_sorted.exits_diff.fillna(df_sorted.exits_diff.mean())\n",
    "    \n",
    "print(df_sorted.info())"
   ]
  },
  {
   "cell_type": "code",
   "execution_count": null,
   "metadata": {},
   "outputs": [],
   "source": []
  }
 ],
 "metadata": {
  "kernelspec": {
   "display_name": "Python 3",
   "language": "python",
   "name": "python3"
  },
  "language_info": {
   "codemirror_mode": {
    "name": "ipython",
    "version": 3
   },
   "file_extension": ".py",
   "mimetype": "text/x-python",
   "name": "python",
   "nbconvert_exporter": "python",
   "pygments_lexer": "ipython3",
   "version": "3.8.3"
  }
 },
 "nbformat": 4,
 "nbformat_minor": 4
}
