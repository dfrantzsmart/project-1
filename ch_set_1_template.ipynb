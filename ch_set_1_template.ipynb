{
 "cells": [
  {
   "cell_type": "markdown",
   "metadata": {},
   "source": [
    "Topic:        Challenge Set 1\n",
    "Subject:      Explore MTA turnstile data\n",
    "Date:         xx/xx/xxxx\n",
    "Name:         student name\n",
    "Worked with:  other students' name\n",
    "Location:     nyc17_ds10/student_submissions/challenges/01-mta/shaikh_reshama/challenge_set_1_reshama.ipynb"
   ]
  },
  {
   "cell_type": "code",
   "execution_count": 1,
   "metadata": {},
   "outputs": [
    {
     "name": "stdout",
     "output_type": "stream",
     "text": [
      "Python Version: 3.7.4 (default, Aug 13 2019, 15:17:50) \n",
      "[Clang 4.0.1 (tags/RELEASE_401/final)]\n"
     ]
    }
   ],
   "source": [
    "import sys\n",
    "print(\"Python Version:\", sys.version)"
   ]
  },
  {
   "cell_type": "markdown",
   "metadata": {},
   "source": [
    "### Challenge 1"
   ]
  },
  {
   "cell_type": "code",
   "execution_count": 2,
   "metadata": {},
   "outputs": [],
   "source": [
    "import pandas as pd\n",
    "import datetime"
   ]
  },
  {
   "cell_type": "code",
   "execution_count": 3,
   "metadata": {},
   "outputs": [],
   "source": [
    "def clean_data(df):\n",
    "    \n",
    "    df.columns = ['C/A','UNIT','SCP','STATION','LINENAME',\\\n",
    "              'DIVISION','DATE','TIME','DESC','ENTRIES','EXITS']\n",
    "    \n",
    "    df['converted_time'] = pd.to_datetime(df['DATE']+' '+df['TIME'])\n",
    "    df['turnstiles'] = df['C/A'] + '-' + df['UNIT'] + '-' + df['SCP'] + '-' + df['STATION']\n",
    "    \n",
    "    df_sorted = df.sort_values(['turnstiles', 'converted_time'])\n",
    "    \n",
    "    turnstile_df = df_sorted.groupby('turnstiles')\n",
    "    df_sorted['entries_diff'] = turnstile_df['ENTRIES'].diff()\n",
    "    df_sorted['exits_diff'] = turnstile_df['EXITS'].diff()\n",
    "    \n",
    "    df_sorted['entries_diff'] = df_sorted['entries_diff'].fillna(0)\n",
    "    df_sorted['exits_diff'] = df_sorted['exits_diff'].fillna(0)\n",
    "    \n",
    "    \n",
    "    return df_sorted"
   ]
  },
  {
   "cell_type": "code",
   "execution_count": 16,
   "metadata": {},
   "outputs": [],
   "source": [
    "def remove_outliers(df_sorted):\n",
    "    # calculates IQR for entries_diff\n",
    "    Q3 = df_sorted['entries_diff'].quantile(0.75) \n",
    "    Q1 = df_sorted['entries_diff'].quantile(0.25)\n",
    "    IQR = Q3 - Q1\n",
    "    # calculates IQR range using outliers \n",
    "    IQR_range = (Q1 - 1.5 * IQR, Q3 + 1.5 * IQR)\n",
    "    IQR_range\n",
    "    # removes values outside of lower and upper bounds\n",
    "    df_sorted = df_sorted[df_sorted['entries_diff'].between(IQR_range[0], IQR_range[1])]\n",
    "    # repeats process for exits_diff\n",
    "    Q3_2 = df_sorted['exits_diff'].quantile(0.75) \n",
    "    Q1_2 = df_sorted['exits_diff'].quantile(0.25)\n",
    "    IQR_2 = Q3_2 - Q1_2\n",
    "    IQR_range_2 = (Q1_2 - 1.5 * IQR, Q3_2 + 1.5 * IQR)\n",
    "    IQR_range_2\n",
    "    df_sorted = df_sorted[df_sorted['exits_diff'].between(IQR_range_2[0], IQR_range_2[1])]\n",
    "    return df_sorted"
   ]
  },
  {
   "cell_type": "code",
   "execution_count": 1,
   "metadata": {},
   "outputs": [],
   "source": [
    "import re\n",
    "def combine_datasets(df1):\n",
    "\n",
    "    \"\"\"This function will perform a left merge on the 'STATION' column\n",
    "    from the turnstile.txt and the 'Stop Name' column from the stations.csv.\n",
    "\n",
    "    Parameters:\n",
    "        df1 (pandas.DataFrame): specifically, mta turnstile.txt dataframe\n",
    "\n",
    "    Returns:\n",
    "        merged_df (pandas.DataFrame): a new dataframe of mta turnstile.txt \n",
    "        and stations.csv\n",
    "    \"\"\"\n",
    "    station_df = pd.read_csv('http://web.mta.info/developers/data/nyct/subway/Stations.csv')\n",
    "    # drop duplicates as vinny suggested for stop name column \n",
    "    station_df.drop_duplicates(subset =\"Stop Name\", inplace=True)\n",
    "    # format columns for merge in both datasets\n",
    "    station_df['station_formatted'] = station_df['Stop Name'].map(lambda x: re.sub(r'\\W+', '', x.lower()))\n",
    "    df1['station_formatted'] = df1.STATION.map(lambda x: re.sub(r'\\W+', '', x.lower()))\n",
    "    \n",
    "    # this is for debugging...\n",
    "    a = set(df1.station_formatted.sort_values().unique())\n",
    "    b = set(test2.station_formatted.sort_values().unique())\n",
    "    print('number of non matching station names between datasets', len(a-b))\n",
    "    print('number of matching station names between datasets', len(a&b))\n",
    "    \n",
    "    combined_df = df1.merge(station_df, how='left').drop(columns=['station_formatted'])\n",
    "    print('number of na values in a single new column after left merge',\\\n",
    "          combined_df.Borough.isna().sum())\n",
    "    \n",
    "    return combined_df"
   ]
  },
  {
   "cell_type": "code",
   "execution_count": 18,
   "metadata": {},
   "outputs": [],
   "source": [
    "df1 = pd.read_csv('http://web.mta.info/developers/data/nyct/turnstile/turnstile_190803.txt')\n",
    "df2 = pd.read_csv('http://web.mta.info/developers/data/nyct/turnstile/turnstile_190810.txt')\n",
    "df3 = pd.read_csv('http://web.mta.info/developers/data/nyct/turnstile/turnstile_190817.txt')\n",
    "df4 = pd.read_csv('http://web.mta.info/developers/data/nyct/turnstile/turnstile_190824.txt')\n",
    "df5 = pd.read_csv('http://web.mta.info/developers/data/nyct/turnstile/turnstile_190831.txt')\n",
    "df_sorted = remove_outliers(clean_data(df1))\n"
   ]
  },
  {
   "cell_type": "code",
   "execution_count": 19,
   "metadata": {},
   "outputs": [],
   "source": [
    "%matplotlib inline\n",
    "import matplotlib.pyplot as plt\n"
   ]
  },
  {
   "cell_type": "code",
   "execution_count": 20,
   "metadata": {},
   "outputs": [
    {
     "data": {
      "text/plain": [
       "Text(0.5, 0.98, 'Daily Entries For Turnstile A002-R051-02-00-01-59 ST')"
      ]
     },
     "execution_count": 20,
     "metadata": {},
     "output_type": "execute_result"
    },
    {
     "data": {
      "image/png": "[encoded data removed]",
      "text/plain": [
       "<Figure size 720x216 with 1 Axes>"
      ]
     },
     "metadata": {
      "needs_background": "light"
     },
     "output_type": "display_data"
    }
   ],
   "source": [
    "#Filter DF for data of just 1 turnstile, sort by date\n",
    "single_turnstile = df_sorted[df_sorted.turnstiles == 'A002-R051-02-00-01-59 ST']\n",
    "single_turnstile_sorted = single_turnstile.groupby('DATE').sum()\n",
    "\n",
    "#Plot daily entries for 1 turnstile\n",
    "plt.figure(figsize=(10,3))\n",
    "x = single_turnstile_sorted.index\n",
    "y = single_turnstile_sorted['entries_diff']\n",
    "plt.bar(x, y)\n",
    "plt.xlabel('Date')\n",
    "plt.ylabel('Daily Turnstile Entries')\n",
    "plt.suptitle('Daily Entries For Turnstile A002-R051-02-00-01-59 ST'  )"
   ]
  },
  {
   "cell_type": "code",
   "execution_count": null,
   "metadata": {},
   "outputs": [],
   "source": [
    "### question 5 "
   ]
  },
  {
   "cell_type": "code",
   "execution_count": 67,
   "metadata": {},
   "outputs": [],
   "source": [
    "df_sorted['turnstile_units'] = df_sorted['C/A'] + '-' + df_sorted['UNIT'] + '-' + df_sorted['STATION']\n",
    "test = df_sorted.groupby(['turnstile_units', 'DATE'])[['entries_diff', 'exits_diff']].sum().reset_index()\n",
    "test"
   ]
  },
  {
   "cell_type": "code",
   "execution_count": 64,
   "metadata": {
    "scrolled": false
   },
   "outputs": [
    {
     "data": {
      "image/png": "[encoded data removed]",
      "text/plain": [
       "<Figure size 720x432 with 1 Axes>"
      ]
     },
     "metadata": {
      "needs_background": "light"
     },
     "output_type": "display_data"
    }
   ],
   "source": [
    "# challenge 6 and 7 plot the daily time series for a station...\n",
    "plt.figure(figsize=[10,6])\n",
    "station1 = test[test.turnstile_units == 'R159-R164-66 ST-LINCOLN']\n",
    "plt.bar(station1.DATE, station1.entries_diff + station1.exits_diff)\n",
    "plt.xticks(rotation=45)\n",
    "plt.show()\n"
   ]
  },
  {
   "cell_type": "code",
   "execution_count": 66,
   "metadata": {},
   "outputs": [
    {
     "data": {
      "image/png": "[encoded data removed]",
      "text/plain": [
       "<Figure size 720x432 with 1 Axes>"
      ]
     },
     "metadata": {
      "needs_background": "light"
     },
     "output_type": "display_data"
    }
   ],
   "source": [
    "plt.figure(figsize=[10,6])\n",
    "plt.plot(station1.DATE, station1.entries_diff + station1.exits_diff)\n",
    "plt.scatter(station1.DATE, station1.entries_diff + station1.exits_diff)\n",
    "plt.xticks(rotation=45)\n",
    "plt.show()"
   ]
  },
  {
   "cell_type": "code",
   "execution_count": 21,
   "metadata": {},
   "outputs": [],
   "source": [
    "# df = pd.concat([df1, df2, df3, df4, df5])"
   ]
  },
  {
   "cell_type": "markdown",
   "metadata": {},
   "source": [
    "### Challenge 2"
   ]
  },
  {
   "cell_type": "code",
   "execution_count": 24,
   "metadata": {},
   "outputs": [
    {
     "name": "stdout",
     "output_type": "stream",
     "text": [
      "<class 'pandas.core.frame.DataFrame'>\n",
      "Int64Index: 1032369 entries, 0 to 205262\n",
      "Data columns (total 14 columns):\n",
      " #   Column                                                                Non-Null Count    Dtype         \n",
      "---  ------                                                                --------------    -----         \n",
      " 0   C/A                                                                   1032369 non-null  object        \n",
      " 1   UNIT                                                                  1032369 non-null  object        \n",
      " 2   SCP                                                                   1032369 non-null  object        \n",
      " 3   STATION                                                               1032369 non-null  object        \n",
      " 4   LINENAME                                                              1032369 non-null  object        \n",
      " 5   DIVISION                                                              1032369 non-null  object        \n",
      " 6   DATE                                                                  1032369 non-null  object        \n",
      " 7   TIME                                                                  1032369 non-null  object        \n",
      " 8   DESC                                                                  1032369 non-null  object        \n",
      " 9   ENTRIES                                                               1032369 non-null  int64         \n",
      " 10  EXITS                                                                 206996 non-null   float64       \n",
      " 11  converted_time                                                        1032369 non-null  datetime64[ns]\n",
      " 12  turnstiles                                                            206996 non-null   object        \n",
      " 13  EXITS                                                                 825373 non-null   float64       \n",
      "dtypes: datetime64[ns](1), float64(2), int64(1), object(10)\n",
      "memory usage: 118.1+ MB\n"
     ]
    }
   ],
   "source": [
    "# df.info()"
   ]
  },
  {
   "cell_type": "code",
   "execution_count": 25,
   "metadata": {},
   "outputs": [],
   "source": [
    "# df['converted_time'] = pd.to_datetime(df['DATE']+' '+df['TIME'])"
   ]
  },
  {
   "cell_type": "code",
   "execution_count": 26,
   "metadata": {
    "scrolled": false
   },
   "outputs": [
    {
     "data": {
      "text/html": [
       "<div>\n",
       "<style scoped>\n",
       "    .dataframe tbody tr th:only-of-type {\n",
       "        vertical-align: middle;\n",
       "    }\n",
       "\n",
       "    .dataframe tbody tr th {\n",
       "        vertical-align: top;\n",
       "    }\n",
       "\n",
       "    .dataframe thead th {\n",
       "        text-align: right;\n",
       "    }\n",
       "</style>\n",
       "<table border=\"1\" class=\"dataframe\">\n",
       "  <thead>\n",
       "    <tr style=\"text-align: right;\">\n",
       "      <th></th>\n",
       "      <th>C/A</th>\n",
       "      <th>UNIT</th>\n",
       "      <th>SCP</th>\n",
       "      <th>STATION</th>\n",
       "      <th>LINENAME</th>\n",
       "      <th>DIVISION</th>\n",
       "      <th>DATE</th>\n",
       "      <th>TIME</th>\n",
       "      <th>DESC</th>\n",
       "      <th>ENTRIES</th>\n",
       "      <th>EXITS</th>\n",
       "      <th>converted_time</th>\n",
       "      <th>turnstiles</th>\n",
       "      <th>EXITS</th>\n",
       "    </tr>\n",
       "  </thead>\n",
       "  <tbody>\n",
       "    <tr>\n",
       "      <th>0</th>\n",
       "      <td>A002</td>\n",
       "      <td>R051</td>\n",
       "      <td>02-00-00</td>\n",
       "      <td>59 ST</td>\n",
       "      <td>NQR456W</td>\n",
       "      <td>BMT</td>\n",
       "      <td>07/27/2019</td>\n",
       "      <td>00:00:00</td>\n",
       "      <td>REGULAR</td>\n",
       "      <td>7148288</td>\n",
       "      <td>2418935.0</td>\n",
       "      <td>2019-07-27 00:00:00</td>\n",
       "      <td>A002-R051-02-00-00-59 ST</td>\n",
       "      <td>NaN</td>\n",
       "    </tr>\n",
       "    <tr>\n",
       "      <th>1</th>\n",
       "      <td>A002</td>\n",
       "      <td>R051</td>\n",
       "      <td>02-00-00</td>\n",
       "      <td>59 ST</td>\n",
       "      <td>NQR456W</td>\n",
       "      <td>BMT</td>\n",
       "      <td>07/27/2019</td>\n",
       "      <td>04:00:00</td>\n",
       "      <td>REGULAR</td>\n",
       "      <td>7148306</td>\n",
       "      <td>2418939.0</td>\n",
       "      <td>2019-07-27 04:00:00</td>\n",
       "      <td>A002-R051-02-00-00-59 ST</td>\n",
       "      <td>NaN</td>\n",
       "    </tr>\n",
       "    <tr>\n",
       "      <th>2</th>\n",
       "      <td>A002</td>\n",
       "      <td>R051</td>\n",
       "      <td>02-00-00</td>\n",
       "      <td>59 ST</td>\n",
       "      <td>NQR456W</td>\n",
       "      <td>BMT</td>\n",
       "      <td>07/27/2019</td>\n",
       "      <td>08:00:00</td>\n",
       "      <td>REGULAR</td>\n",
       "      <td>7148326</td>\n",
       "      <td>2418975.0</td>\n",
       "      <td>2019-07-27 08:00:00</td>\n",
       "      <td>A002-R051-02-00-00-59 ST</td>\n",
       "      <td>NaN</td>\n",
       "    </tr>\n",
       "    <tr>\n",
       "      <th>3</th>\n",
       "      <td>A002</td>\n",
       "      <td>R051</td>\n",
       "      <td>02-00-00</td>\n",
       "      <td>59 ST</td>\n",
       "      <td>NQR456W</td>\n",
       "      <td>BMT</td>\n",
       "      <td>07/27/2019</td>\n",
       "      <td>12:00:00</td>\n",
       "      <td>REGULAR</td>\n",
       "      <td>7148441</td>\n",
       "      <td>2419042.0</td>\n",
       "      <td>2019-07-27 12:00:00</td>\n",
       "      <td>A002-R051-02-00-00-59 ST</td>\n",
       "      <td>NaN</td>\n",
       "    </tr>\n",
       "    <tr>\n",
       "      <th>4</th>\n",
       "      <td>A002</td>\n",
       "      <td>R051</td>\n",
       "      <td>02-00-00</td>\n",
       "      <td>59 ST</td>\n",
       "      <td>NQR456W</td>\n",
       "      <td>BMT</td>\n",
       "      <td>07/27/2019</td>\n",
       "      <td>16:00:00</td>\n",
       "      <td>REGULAR</td>\n",
       "      <td>7148647</td>\n",
       "      <td>2419101.0</td>\n",
       "      <td>2019-07-27 16:00:00</td>\n",
       "      <td>A002-R051-02-00-00-59 ST</td>\n",
       "      <td>NaN</td>\n",
       "    </tr>\n",
       "  </tbody>\n",
       "</table>\n",
       "</div>"
      ],
      "text/plain": [
       "    C/A  UNIT       SCP STATION LINENAME DIVISION        DATE      TIME  \\\n",
       "0  A002  R051  02-00-00   59 ST  NQR456W      BMT  07/27/2019  00:00:00   \n",
       "1  A002  R051  02-00-00   59 ST  NQR456W      BMT  07/27/2019  04:00:00   \n",
       "2  A002  R051  02-00-00   59 ST  NQR456W      BMT  07/27/2019  08:00:00   \n",
       "3  A002  R051  02-00-00   59 ST  NQR456W      BMT  07/27/2019  12:00:00   \n",
       "4  A002  R051  02-00-00   59 ST  NQR456W      BMT  07/27/2019  16:00:00   \n",
       "\n",
       "      DESC  ENTRIES      EXITS      converted_time                turnstiles  \\\n",
       "0  REGULAR  7148288  2418935.0 2019-07-27 00:00:00  A002-R051-02-00-00-59 ST   \n",
       "1  REGULAR  7148306  2418939.0 2019-07-27 04:00:00  A002-R051-02-00-00-59 ST   \n",
       "2  REGULAR  7148326  2418975.0 2019-07-27 08:00:00  A002-R051-02-00-00-59 ST   \n",
       "3  REGULAR  7148441  2419042.0 2019-07-27 12:00:00  A002-R051-02-00-00-59 ST   \n",
       "4  REGULAR  7148647  2419101.0 2019-07-27 16:00:00  A002-R051-02-00-00-59 ST   \n",
       "\n",
       "   EXITS                                                                 \n",
       "0                                                NaN                     \n",
       "1                                                NaN                     \n",
       "2                                                NaN                     \n",
       "3                                                NaN                     \n",
       "4                                                NaN                     "
      ]
     },
     "execution_count": 26,
     "metadata": {},
     "output_type": "execute_result"
    }
   ],
   "source": [
    "# df.head()"
   ]
  },
  {
   "cell_type": "code",
   "execution_count": 27,
   "metadata": {},
   "outputs": [],
   "source": [
    "# sort_df = df.groupby(['C/A', 'UNIT', 'SCP', 'STATION', 'DATE']).min()"
   ]
  },
  {
   "cell_type": "code",
   "execution_count": 35,
   "metadata": {},
   "outputs": [],
   "source": [
    "# sort_df[\"NEW_ENTRIES\"] = sort_df.ENTRIES.diff()"
   ]
  },
  {
   "cell_type": "code",
   "execution_count": 42,
   "metadata": {},
   "outputs": [],
   "source": [
    "# sort_df.rename(columns={'EXITS                                                               ':'EXITS'}, inplace=True)"
   ]
  },
  {
   "cell_type": "code",
   "execution_count": 43,
   "metadata": {},
   "outputs": [],
   "source": [
    "# sort_df[\"NEW_EXITS\"] = sort_df.EXITS.diff()"
   ]
  },
  {
   "cell_type": "code",
   "execution_count": 30,
   "metadata": {},
   "outputs": [],
   "source": [
    "# sort_df.head(30)"
   ]
  },
  {
   "cell_type": "code",
   "execution_count": null,
   "metadata": {},
   "outputs": [],
   "source": []
  }
 ],
 "metadata": {
  "kernelspec": {
   "display_name": "Python 3",
   "language": "python",
   "name": "python3"
  },
  "language_info": {
   "codemirror_mode": {
    "name": "ipython",
    "version": 3
   },
   "file_extension": ".py",
   "mimetype": "text/x-python",
   "name": "python",
   "nbconvert_exporter": "python",
   "pygments_lexer": "ipython3",
   "version": "3.7.4"
  }
 },
 "nbformat": 4,
 "nbformat_minor": 1
}
